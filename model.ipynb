{
  "nbformat": 4,
  "nbformat_minor": 0,
  "metadata": {
    "colab": {
      "provenance": []
    },
    "kernelspec": {
      "name": "python3",
      "display_name": "Python 3"
    },
    "language_info": {
      "name": "python"
    }
  },
  "cells": [
    {
      "cell_type": "code",
      "source": [
        "\"Importing necessary packages.\"\n",
        "\n",
        "import tensorflow.compat.v1 as tf\n",
        "import numpy as np\n",
        "import matplotlib.pyplot as plt"
      ],
      "metadata": {
        "id": "DwMKuMadpZ9f"
      },
      "execution_count": 1,
      "outputs": []
    },
    {
      "cell_type": "code",
      "source": [
        "\"Creating a function with known first and second order derivatives and random paramters to generate training data.\"\n",
        "\n",
        "class TrainingFunc():\n",
        "  def __init__(self):\n",
        "    self.vals = np.random.uniform(-2, 2, 3)\n",
        "    self.step = np.random.uniform(0.01, 0.1)\n",
        "    \n",
        "  def pos(self, x): return self.vals[0] * x**3 + self.vals[1] * x**2 + self.vals[2] * x\n",
        "  def vel(self, x): return 3 * self.vals[0] * x**2 + 2 * self.vals[1] * x + self.vals[2]\n",
        "  def acc(self, x): return 6 * self.vals[0] * x + 2 * self.vals[1]"
      ],
      "metadata": {
        "id": "XI3jX67Apeqk"
      },
      "execution_count": 2,
      "outputs": []
    },
    {
      "cell_type": "code",
      "source": [
        "\"Generating the training data\"\n",
        "\n",
        "ini_training_func = TrainingFunc()\n",
        "\n",
        "input_data = np.array([ini_training_func.step, ini_training_func.pos(0), \n",
        "                         ini_training_func.vel(0), ini_training_func.acc(0)])\n",
        "\n",
        "target_data = np.array([ini_training_func.pos(ini_training_func.step), \n",
        "                          ini_training_func.vel(ini_training_func.step)])\n",
        "\n",
        "for i in range(9999):\n",
        "  new_training_func = TrainingFunc()\n",
        "  randx = np.random.uniform(-1, 5)\n",
        "\n",
        "  new_input_data = np.array([new_training_func.step, new_training_func.pos(randx), \n",
        "                         new_training_func.vel(randx), new_training_func.acc(randx)])\n",
        "  \n",
        "  new_target_data = np.array([new_training_func.pos(randx + new_training_func.step), \n",
        "                          new_training_func.vel(randx + new_training_func.step)])\n",
        "  \n",
        "  input_data = np.vstack((input_data, new_input_data))\n",
        "  target_data = np.vstack((target_data, new_target_data))"
      ],
      "metadata": {
        "id": "E-zJiOvbwmkU"
      },
      "execution_count": 3,
      "outputs": []
    },
    {
      "cell_type": "code",
      "execution_count": 4,
      "metadata": {
        "id": "8jz0rPF_kiCW"
      },
      "outputs": [],
      "source": [
        "\"Defining the model.\"\n",
        "\n",
        "np.random.seed(173)\n",
        "\n",
        "num_inputs = 4\n",
        "num_hidden = 3\n",
        "num_outputs = 2\n",
        "\n",
        "graph = tf.Graph()\n",
        "\n",
        "with graph.as_default():\n",
        "  inputs = tf.placeholder(tf.float32, shape=[None, num_inputs])\n",
        "  targets = tf.placeholder(tf.float32, shape=[None, num_outputs])\n",
        "\n",
        "  hidden_weights = tf.Variable(tf.truncated_normal([num_inputs + 1, num_hidden]))\n",
        "  hidden_biases = tf.Variable(tf.zeros([1, num_hidden]))\n",
        "\n",
        "  output_weights = tf.Variable(tf.truncated_normal([num_hidden + 1, num_outputs]))\n",
        "  output_biases = tf.Variable(tf.zeros([1, num_outputs]))\n",
        "\n",
        "  hidden_layer = tf.nn.dropout(tf.nn.relu(tf.matmul(tf.concat([inputs, tf.ones([tf.shape(inputs)[0], 1])], axis=1), hidden_weights) + hidden_biases), rate=0.5)\n",
        "  output_layer = tf.matmul(tf.concat([hidden_layer, tf.ones([tf.shape(inputs)[0], 1])], axis=1), output_weights) + output_biases\n",
        "\n",
        "  loss = tf.reduce_mean(tf.square(targets - output_layer))\n",
        "  optimizer = tf.train.AdamOptimizer().minimize(loss)\n",
        "\n",
        "  init = tf.global_variables_initializer()"
      ]
    },
    {
      "cell_type": "code",
      "source": [
        "\"Training the model.\"\n",
        "\n",
        "with tf.Session(graph=graph) as sess:\n",
        "    sess.run(init)\n",
        "\n",
        "    #noisy_input_data = input_data + np.random.normal(scale=0.1, size=input_data.shape)\n",
        "\n",
        "    losses = []\n",
        "    for i in range(1000):\n",
        "        _, loss_val = sess.run([optimizer, loss], feed_dict={inputs: input_data, targets: target_data})\n",
        "        losses.append(loss_val)\n",
        "        \n",
        "    saver = tf.train.Saver()\n",
        "    save_path = saver.save(sess, \"my_model.ckpt\")\n",
        "\n",
        "    plt.plot(losses)\n",
        "    plt.xlabel(\"Epoch\")\n",
        "    plt.ylabel(\"Loss\")\n",
        "    plt.show()"
      ],
      "metadata": {
        "colab": {
          "base_uri": "https://localhost:8080/",
          "height": 279
        },
        "id": "o-Dv0zKAvEAe",
        "outputId": "610c7953-1875-4798-b8e8-593e9408d56b"
      },
      "execution_count": 5,
      "outputs": [
        {
          "output_type": "display_data",
          "data": {
            "text/plain": [
              "<Figure size 432x288 with 1 Axes>"
            ],
            "image/png": "[encoded data removed]"
          },
          "metadata": {
            "needs_background": "light"
          }
        }
      ]
    },
    {
      "cell_type": "code",
      "source": [
        "\"Testing the model on a simple harmonic oscillator.\"\n",
        "\n",
        "class Oscillator:\n",
        "  def __init__(self, a, h):\n",
        "    self.a = a\n",
        "    self.sqrta = np.sqrt(a)\n",
        "    self.ini = np.array([h, 0, self.sqrta, 0])\n",
        "\n",
        "  def acc(self, pos):\n",
        "    return self.a * np.sin(pos)\n",
        "\n",
        "  def vel(self, t):\n",
        "    return self.sqrta * np.cos(self.sqrta * t)\n",
        "\n",
        "  def pos(self, t):\n",
        "    return np.sin(self.sqrta * t)\n",
        "\n",
        "h = 0.01\n",
        "a = 1\n",
        "oscillator = Oscillator(a, h)\n",
        "exact_sol = [oscillator.ini[1]]\n",
        "model_sol = [oscillator.ini[1]]\n",
        "\n",
        "with tf.Session(graph=graph) as sess:\n",
        "  saver = tf.train.Saver()\n",
        "  saver.restore(sess, \"my_model.ckpt\")\n",
        "\n",
        "  prediction = sess.run(output_layer, feed_dict={inputs: oscillator.ini.reshape((1, 4))})\n",
        "  print(prediction)\n",
        "  model_sol.append(prediction[0,0])\n",
        "  exact_sol.append(oscillator.pos(h))\n",
        "\n",
        "  for i in range(2, 100):\n",
        "   exact_sol.append(oscillator.pos(i * h))\n",
        "   input_data = np.array([h, prediction[0,0], prediction[0,1], oscillator.acc(prediction[0,0])]).reshape((1, 4))\n",
        "   prediction = sess.run(output_layer, feed_dict={inputs: input_data})\n",
        "   model_sol.append(prediction[0,0])"
      ],
      "metadata": {
        "colab": {
          "base_uri": "https://localhost:8080/"
        },
        "id": "pQvMT8mz397w",
        "outputId": "8260f94f-640c-4261-da16-1ba50c0fa88b"
      },
      "execution_count": 6,
      "outputs": [
        {
          "output_type": "stream",
          "name": "stdout",
          "text": [
            "[[-0.7417547  0.2539296]]\n"
          ]
        }
      ]
    },
    {
      "cell_type": "code",
      "source": [
        "plt.plot(exact_sol, 'r')\n",
        "plt.plot(model_sol, 'b')\n",
        "plt.xlabel(\"Time\")\n",
        "plt.ylabel(\"Pos\")\n",
        "plt.show()"
      ],
      "metadata": {
        "colab": {
          "base_uri": "https://localhost:8080/",
          "height": 279
        },
        "id": "SG-q3SdWEzX2",
        "outputId": "cdd8164f-9439-4578-c718-7745237239a6"
      },
      "execution_count": 8,
      "outputs": [
        {
          "output_type": "display_data",
          "data": {
            "text/plain": [
              "<Figure size 432x288 with 1 Axes>"
            ],
            "image/png": "[encoded data removed]"
          },
          "metadata": {
            "needs_background": "light"
          }
        }
      ]
    }
  ]
}