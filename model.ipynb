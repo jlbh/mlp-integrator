{
  "nbformat": 4,
  "nbformat_minor": 0,
  "metadata": {
    "colab": {
      "provenance": [],
      "authorship_tag": "ABX9TyNUBI/bTSiGgx3rI0Z0yIB1",
      "include_colab_link": true
    },
    "kernelspec": {
      "name": "python3",
      "display_name": "Python 3"
    },
    "language_info": {
      "name": "python"
    }
  },
  "cells": [
    {
      "cell_type": "markdown",
      "metadata": {
        "id": "view-in-github",
        "colab_type": "text"
      },
      "source": [
        "<a href=\"https://colab.research.google.com/github/jlbh/mlp-integrator/blob/main/model.ipynb\" target=\"_parent\"><img src=\"https://colab.research.google.com/assets/colab-badge.svg\" alt=\"Open In Colab\"/></a>"
      ]
    },
    {
      "cell_type": "code",
      "execution_count": 65,
      "metadata": {
        "colab": {
          "base_uri": "https://localhost:8080/"
        },
        "id": "ALv8FYf8oEVG",
        "outputId": "b6205be9-4e8d-4414-e40c-c8f6dc0a5e8e"
      },
      "outputs": [
        {
          "output_type": "stream",
          "name": "stdout",
          "text": [
            "TensorFlow version: 2.12.0\n"
          ]
        }
      ],
      "source": [
        "from tensorflow.keras.layers import Dense, Dropout\n",
        "from tensorflow.keras.models import Sequential\n",
        "import tensorflow as tf\n",
        "import numpy as np\n",
        "import matplotlib.pyplot as plt\n",
        "print(\"TensorFlow version:\", tf.__version__)"
      ]
    },
    {
      "cell_type": "code",
      "source": [
        "tf.random.set_seed(13)\n",
        "\n",
        "input_dim = 4\n",
        "output_dim = 2\n",
        "hidden1_dim = 4\n",
        "hidden2_dim = 4\n",
        "\n",
        "model = tf.keras.Sequential([\n",
        "    tf.keras.layers.Dense(hidden1_dim, activation='tanh', input_shape=(input_dim,)),\n",
        "    tf.keras.layers.Dense(hidden2_dim, activation='tanh'),\n",
        "    tf.keras.layers.Dense(output_dim)\n",
        "])\n",
        "\n",
        "model.compile(optimizer='adam', loss='mse')\n",
        "\n",
        "model.summary()"
      ],
      "metadata": {
        "colab": {
          "base_uri": "https://localhost:8080/"
        },
        "id": "qrgpaPlroJ2a",
        "outputId": "25a759f0-3bf7-4939-fa4c-c074c2e66f18"
      },
      "execution_count": 100,
      "outputs": [
        {
          "output_type": "stream",
          "name": "stdout",
          "text": [
            "Model: \"sequential_14\"\n",
            "_________________________________________________________________\n",
            " Layer (type)                Output Shape              Param #   \n",
            "=================================================================\n",
            " dense_35 (Dense)            (None, 4)                 20        \n",
            "                                                                 \n",
            " dense_36 (Dense)            (None, 4)                 20        \n",
            "                                                                 \n",
            " dense_37 (Dense)            (None, 2)                 10        \n",
            "                                                                 \n",
            "=================================================================\n",
            "Total params: 50\n",
            "Trainable params: 50\n",
            "Non-trainable params: 0\n",
            "_________________________________________________________________\n"
          ]
        }
      ]
    },
    {
      "cell_type": "code",
      "source": [
        "class TrainingFunc():\n",
        "  def __init__(self):\n",
        "    self.val1 = np.random.uniform(0.2, 1.8)\n",
        "    self.val2 = np.random.uniform(-2, 2)\n",
        "    self.sqrtv = np.sqrt(self.val1)\n",
        "    self.step = np.random.uniform(0.0001, 0.0199)\n",
        "    \n",
        "  def pos(self, t): return np.sin(self.sqrtv * t) + self.val2\n",
        "  def vel(self, t): return self.sqrtv * np.cos(self.sqrtv * t)\n",
        "  def acc(self, t): return -self.val1 * np.sin(self.sqrtv * t)\n",
        "\n",
        "ini_training_func = TrainingFunc()\n",
        "\n",
        "X_train = [[ini_training_func.step, ini_training_func.pos(0), \n",
        "                         ini_training_func.vel(0), ini_training_func.acc(0)]]\n",
        "\n",
        "Y_train = [[ini_training_func.pos(ini_training_func.step), \n",
        "                          ini_training_func.vel(ini_training_func.step)]]\n",
        "\n",
        "for i in range(1_000_000):\n",
        "  new_training_func = TrainingFunc()\n",
        "  rand_t = np.random.uniform(-33, 33)\n",
        "\n",
        "  new_input_data = [new_training_func.step, new_training_func.pos(rand_t), \n",
        "                         new_training_func.vel(rand_t), new_training_func.acc(rand_t)]\n",
        "  \n",
        "  new_target_data = [new_training_func.pos(rand_t + new_training_func.step), \n",
        "                          new_training_func.vel(rand_t + new_training_func.step)]\n",
        "  \n",
        "  X_train.append(new_input_data)\n",
        "  Y_train.append(new_target_data)\n",
        "\n",
        "X_train = np.array(X_train)\n",
        "Y_train = np.array(Y_train)"
      ],
      "metadata": {
        "id": "IeaJUsGxoMOC"
      },
      "execution_count": 99,
      "outputs": []
    },
    {
      "cell_type": "code",
      "source": [
        "history = model.fit(X_train, Y_train)"
      ],
      "metadata": {
        "colab": {
          "base_uri": "https://localhost:8080/"
        },
        "id": "KNFfsc-_oOqW",
        "outputId": "dab0ebe5-3912-43c7-a135-4379e60998ac"
      },
      "execution_count": 101,
      "outputs": [
        {
          "output_type": "stream",
          "name": "stdout",
          "text": [
            "31251/31251 [==============================] - 60s 2ms/step - loss: 0.0307\n"
          ]
        }
      ]
    },
    {
      "cell_type": "code",
      "source": [
        "class Oscillator:\n",
        "  def __init__(self, a, h):\n",
        "    self.a = a\n",
        "    self.sqrta = np.sqrt(a)\n",
        "    self.ini = np.array([h, 0.1, self.sqrta * 0.994987, a * 0.0996676])\n",
        "\n",
        "  def acc(self, pos):\n",
        "    return self.a * np.sin(pos)\n",
        "\n",
        "  def vel(self, t):\n",
        "    return self.sqrta * np.cos(self.sqrta * t)\n",
        "\n",
        "  def pos(self, t):\n",
        "    return np.sin(self.sqrta * t)\n",
        "\n",
        "h = 0.01\n",
        "a = 1\n",
        "\n",
        "oscillator = Oscillator(a, h)\n",
        "exact_sol = [oscillator.ini[1]]\n",
        "model_sol = [oscillator.ini[1]]\n",
        "\n",
        "prediction = model(oscillator.ini.reshape((1, 4)), training=False)\n",
        "\n",
        "model_sol.append(prediction[0,0])\n",
        "exact_sol.append(oscillator.pos(h + oscillator.ini[1]))\n",
        "\n",
        "for i in range(2, 400):\n",
        "  input_data = np.array([h, prediction[0,0], prediction[0,1], oscillator.acc(prediction[0,0])]).reshape((1, 4))\n",
        "  prediction = model(input_data, training=False)\n",
        "  model_sol.append(prediction[0,0])\n",
        "  exact_sol.append(oscillator.pos(i * h + oscillator.ini[1]))"
      ],
      "metadata": {
        "id": "6qtivhfeoRoj"
      },
      "execution_count": 102,
      "outputs": []
    },
    {
      "cell_type": "code",
      "source": [
        "plt.plot(model_sol, 'b')\n",
        "plt.plot(exact_sol, 'g')\n",
        "plt.xlim(0, 400)\n",
        "plt.ylim(0,2)\n",
        "plt.show()"
      ],
      "metadata": {
        "colab": {
          "base_uri": "https://localhost:8080/",
          "height": 435
        },
        "id": "LenlVJZwoWtU",
        "outputId": "304225fa-47a9-4d88-ebf0-5c25d8adf072"
      },
      "execution_count": 103,
      "outputs": [
        {
          "output_type": "display_data",
          "data": {
            "text/plain": [
              "<Figure size 640x480 with 1 Axes>"
            ],
            "image/png": "[encoded data removed]"
          },
          "metadata": {}
        }
      ]
    }
  ]
}