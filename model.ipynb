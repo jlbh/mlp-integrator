{
  "nbformat": 4,
  "nbformat_minor": 0,
  "metadata": {
    "colab": {
      "provenance": []
    },
    "kernelspec": {
      "name": "python3",
      "display_name": "Python 3"
    },
    "language_info": {
      "name": "python"
    }
  },
  "cells": [
    {
      "cell_type": "code",
      "source": [
        "\"Importing necessary packages.\"\n",
        "\n",
        "import tensorflow.compat.v1 as tf\n",
        "import numpy as np\n",
        "import matplotlib.pyplot as plt"
      ],
      "metadata": {
        "id": "DwMKuMadpZ9f"
      },
      "execution_count": 34,
      "outputs": []
    },
    {
      "cell_type": "code",
      "source": [
        "\"Creating a function with known first and second order derivatives and random paramters to generate training data.\"\n",
        "\n",
        "class TrainingFunc():\n",
        "  def __init__(self):\n",
        "    self.val = np.random.uniform(0.5, 2, 2)\n",
        "    self.sqrtv = np.sqrt(self.val[0])\n",
        "    self.step = np.random.uniform(0.001, 0.019)\n",
        "    \n",
        "  def pos(self, x): return self.val[1] * np.sin(self.sqrtv * x)\n",
        "  def vel(self, x): return self.val[1] * self.sqrtv * np.cos(self.sqrtv * x)\n",
        "  def acc(self, x): return -self.val[1] * self.val[0] * np.sin(self.sqrtv * x)"
      ],
      "metadata": {
        "id": "XI3jX67Apeqk"
      },
      "execution_count": 35,
      "outputs": []
    },
    {
      "cell_type": "code",
      "source": [
        "abba = TrainingFunc()\n",
        "print(abba.step)\n",
        "abba.pos(abba.step)\n",
        "abba.vel(abba.step)"
      ],
      "metadata": {
        "id": "GGDFi0b6e2CN",
        "outputId": "46c2b91b-246f-453b-a5f1-b02420721907",
        "colab": {
          "base_uri": "https://localhost:8080/"
        }
      },
      "execution_count": 36,
      "outputs": [
        {
          "output_type": "stream",
          "name": "stdout",
          "text": [
            "0.011030576272428164\n"
          ]
        },
        {
          "output_type": "execute_result",
          "data": {
            "text/plain": [
              "2.0740389220833393"
            ]
          },
          "metadata": {},
          "execution_count": 36
        }
      ]
    },
    {
      "cell_type": "code",
      "source": [
        "\"Generating the training data\"\n",
        "\n",
        "ini_training_func = TrainingFunc()\n",
        "\n",
        "input_data = [[ini_training_func.step, ini_training_func.pos(0), \n",
        "                         ini_training_func.vel(0), ini_training_func.acc(0)]]\n",
        "\n",
        "target_data = [[ini_training_func.pos(ini_training_func.step), \n",
        "                          ini_training_func.vel(ini_training_func.step)]]\n",
        "\n",
        "for i in range(15_000_000):\n",
        "  new_training_func = TrainingFunc()\n",
        "  randx = np.random.uniform(-1, 1)\n",
        "\n",
        "  new_input_data = [new_training_func.step, new_training_func.pos(randx), \n",
        "                         new_training_func.vel(randx), new_training_func.acc(randx)]\n",
        "  \n",
        "  new_target_data = [new_training_func.pos(randx + new_training_func.step), \n",
        "                          new_training_func.vel(randx + new_training_func.step)]\n",
        "  \n",
        "  input_data.append(new_input_data)\n",
        "  target_data.append(new_target_data)\n",
        "\n",
        "input_data = np.array(input_data)\n",
        "target_data = np.array(target_data)"
      ],
      "metadata": {
        "id": "E-zJiOvbwmkU"
      },
      "execution_count": 37,
      "outputs": []
    },
    {
      "cell_type": "code",
      "execution_count": 38,
      "metadata": {
        "id": "8jz0rPF_kiCW"
      },
      "outputs": [],
      "source": [
        "\"Defining the model.\"\n",
        "\n",
        "np.random.seed(13)\n",
        "\n",
        "num_inputs = 4\n",
        "num_hidden = 3\n",
        "num_outputs = 2\n",
        "\n",
        "graph = tf.Graph()\n",
        "\n",
        "with graph.as_default():\n",
        "  inputs = tf.placeholder(tf.float32, shape=[None, num_inputs])\n",
        "  targets = tf.placeholder(tf.float32, shape=[None, num_outputs])\n",
        "\n",
        "  hidden_weights = tf.Variable(tf.truncated_normal([num_inputs + 1, num_hidden]))\n",
        "  hidden_biases = tf.Variable(tf.zeros([1, num_hidden]))\n",
        "\n",
        "  output_weights = tf.Variable(tf.truncated_normal([num_hidden + 1, num_outputs]))\n",
        "  output_biases = tf.Variable(tf.zeros([1, num_outputs]))\n",
        "\n",
        "  hidden_layer = tf.nn.dropout(tf.nn.relu(tf.matmul(tf.concat([inputs, tf.ones([tf.shape(inputs)[0], 1])], axis=1), hidden_weights) + hidden_biases), rate=0.5)\n",
        "  output_layer = tf.matmul(tf.concat([hidden_layer, tf.ones([tf.shape(inputs)[0], 1])], axis=1), output_weights) + output_biases\n",
        "\n",
        "  loss = tf.reduce_mean(tf.square(targets - output_layer))\n",
        "  optimizer = tf.train.AdamOptimizer().minimize(loss)\n",
        "\n",
        "  init = tf.global_variables_initializer()"
      ]
    },
    {
      "cell_type": "code",
      "source": [
        "\"Training the model.\"\n",
        "\n",
        "with tf.Session(graph=graph) as sess:\n",
        "  sess.run(init)\n",
        "\n",
        "  noisy_input_data = input_data + np.random.normal(scale=0.0001, size=input_data.shape)\n",
        "\n",
        "  losses = []\n",
        "  for i in range(400):\n",
        "      _, loss_val = sess.run([optimizer, loss], feed_dict={inputs: noisy_input_data, targets: target_data})\n",
        "      losses.append(loss_val)\n",
        "      \n",
        "  saver = tf.train.Saver()\n",
        "  save_path = saver.save(sess, \"my_model.ckpt\")\n",
        "\n",
        "  plt.plot(losses)\n",
        "  plt.xlabel(\"Epoch\")\n",
        "  plt.ylabel(\"Loss\")\n",
        "  plt.show()"
      ],
      "metadata": {
        "colab": {
          "base_uri": "https://localhost:8080/",
          "height": 279
        },
        "id": "o-Dv0zKAvEAe",
        "outputId": "4a6ed7e0-6d37-4dd4-c370-df5d316e7162"
      },
      "execution_count": 39,
      "outputs": [
        {
          "output_type": "display_data",
          "data": {
            "text/plain": [
              "<Figure size 432x288 with 1 Axes>"
            ],
            "image/png": "[encoded data removed]"
          },
          "metadata": {
            "needs_background": "light"
          }
        }
      ]
    },
    {
      "cell_type": "code",
      "source": [
        "\"Testing the model on a simple harmonic oscillator.\"\n",
        "\n",
        "class Oscillator:\n",
        "  def __init__(self, a, h):\n",
        "    self.a = a\n",
        "    self.sqrta = np.sqrt(a)\n",
        "    self.ini = np.array([h, 0, self.sqrta, 0])\n",
        "\n",
        "  def acc(self, pos):\n",
        "    return 0.8 * self.a * np.sin(pos)\n",
        "\n",
        "  def vel(self, t):\n",
        "    return 0.8 * self.sqrta * np.cos(self.sqrta * t)\n",
        "\n",
        "  def pos(self, t):\n",
        "    return 0.8 * np.sin(self.sqrta * t)\n",
        "\n",
        "h = 0.01\n",
        "a = 0.5\n",
        "oscillator = Oscillator(a, h)\n",
        "exact_sol = [oscillator.ini[1]]\n",
        "model_sol = [oscillator.ini[1]]\n",
        "\n",
        "with tf.Session(graph=graph) as sess:\n",
        "  saver = tf.train.Saver()\n",
        "  saver.restore(sess, \"my_model.ckpt\")\n",
        "\n",
        "  prediction = sess.run(output_layer, feed_dict={inputs: oscillator.ini.reshape((1, 4))})\n",
        "  print(prediction)\n",
        "  model_sol.append(prediction[0,0])\n",
        "  exact_sol.append(oscillator.pos(h))\n",
        "\n",
        "  for i in range(2, 400):\n",
        "   exact_sol.append(oscillator.pos(i * h))\n",
        "   input_data = np.array([h, prediction[0,0], prediction[0,1], oscillator.acc(prediction[0,0])]).reshape((1, 4))\n",
        "   prediction = sess.run(output_layer, feed_dict={inputs: input_data})\n",
        "   model_sol.append(prediction[0,0])\n",
        "\n",
        "plt.plot(exact_sol, 'r')\n",
        "plt.plot(model_sol, 'b')\n",
        "plt.xlabel(\"Time\")\n",
        "plt.ylabel(\"Pos\")\n",
        "plt.show()"
      ],
      "metadata": {
        "colab": {
          "base_uri": "https://localhost:8080/",
          "height": 296
        },
        "id": "pQvMT8mz397w",
        "outputId": "8c1c29f2-1daf-4efd-809e-354c6647b65d"
      },
      "execution_count": 40,
      "outputs": [
        {
          "output_type": "stream",
          "name": "stdout",
          "text": [
            "[[-0.29571867 -0.98999906]]\n"
          ]
        },
        {
          "output_type": "display_data",
          "data": {
            "text/plain": [
              "<Figure size 432x288 with 1 Axes>"
            ],
            "image/png": "[encoded data removed]"
          },
          "metadata": {
            "needs_background": "light"
          }
        }
      ]
    }
  ]
}