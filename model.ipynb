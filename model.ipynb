{
  "nbformat": 4,
  "nbformat_minor": 0,
  "metadata": {
    "colab": {
      "provenance": [],
      "authorship_tag": "ABX9TyMZFb+ms7o4bQZTWRBpOdCA",
      "include_colab_link": true
    },
    "kernelspec": {
      "name": "python3",
      "display_name": "Python 3"
    },
    "language_info": {
      "name": "python"
    }
  },
  "cells": [
    {
      "cell_type": "markdown",
      "metadata": {
        "id": "view-in-github",
        "colab_type": "text"
      },
      "source": [
        "<a href=\"https://colab.research.google.com/github/jlbh/mlp-integrator/blob/main/model.ipynb\" target=\"_parent\"><img src=\"https://colab.research.google.com/assets/colab-badge.svg\" alt=\"Open In Colab\"/></a>"
      ]
    },
    {
      "cell_type": "code",
      "execution_count": 7,
      "metadata": {
        "colab": {
          "base_uri": "https://localhost:8080/"
        },
        "id": "ALv8FYf8oEVG",
        "outputId": "8746a73a-cde3-4d38-afe1-51885db8f0c6"
      },
      "outputs": [
        {
          "output_type": "stream",
          "name": "stdout",
          "text": [
            "TensorFlow version: 2.11.0\n"
          ]
        }
      ],
      "source": [
        "from tensorflow.keras.layers import Dense, Dropout\n",
        "from tensorflow.keras.models import Sequential\n",
        "import tensorflow as tf\n",
        "import numpy as np\n",
        "import matplotlib.pyplot as plt\n",
        "print(\"TensorFlow version:\", tf.__version__)"
      ]
    },
    {
      "cell_type": "code",
      "source": [
        "tf.random.set_seed(13)\n",
        "\n",
        "input_dim = 4\n",
        "output_dim = 2\n",
        "hidden1_dim = 5\n",
        "hidden2_dim = 3\n",
        "\n",
        "model = tf.keras.Sequential([\n",
        "    tf.keras.layers.Dense(hidden1_dim, activation='relu', input_shape=(input_dim,)),\n",
        "    tf.keras.layers.Dense(hidden2_dim, activation='relu'),\n",
        "    tf.keras.layers.Dense(output_dim)\n",
        "])\n",
        "\n",
        "model.compile(optimizer='adam', loss='mse')\n",
        "\n",
        "model.summary()"
      ],
      "metadata": {
        "colab": {
          "base_uri": "https://localhost:8080/"
        },
        "id": "qrgpaPlroJ2a",
        "outputId": "9ffb331e-f6d0-4041-f81a-47423815cff6"
      },
      "execution_count": 8,
      "outputs": [
        {
          "output_type": "stream",
          "name": "stdout",
          "text": [
            "Model: \"sequential_1\"\n",
            "_________________________________________________________________\n",
            " Layer (type)                Output Shape              Param #   \n",
            "=================================================================\n",
            " dense_4 (Dense)             (None, 5)                 25        \n",
            "                                                                 \n",
            " dense_5 (Dense)             (None, 3)                 18        \n",
            "                                                                 \n",
            " dense_6 (Dense)             (None, 2)                 8         \n",
            "                                                                 \n",
            "=================================================================\n",
            "Total params: 51\n",
            "Trainable params: 51\n",
            "Non-trainable params: 0\n",
            "_________________________________________________________________\n"
          ]
        }
      ]
    },
    {
      "cell_type": "code",
      "source": [
        "class TrainingFunc():\n",
        "  def __init__(self):\n",
        "    self.val = np.random.uniform(0.2, 1.8)\n",
        "    self.sqrtv = np.sqrt(self.val)\n",
        "    self.step = np.random.uniform(0.0001, 0.0199)\n",
        "    \n",
        "  def pos(self, t): return np.sin(self.sqrtv * t)\n",
        "  def vel(self, t): return self.sqrtv * np.cos(self.sqrtv * t)\n",
        "  def acc(self, t): return -self.val * np.sin(self.sqrtv * t)\n",
        "\n",
        "ini_training_func = TrainingFunc()\n",
        "\n",
        "X_train = [[ini_training_func.step, ini_training_func.pos(0), \n",
        "                         ini_training_func.vel(0), ini_training_func.acc(0)]]\n",
        "\n",
        "Y_train = [[ini_training_func.pos(ini_training_func.step), \n",
        "                          ini_training_func.vel(ini_training_func.step)]]\n",
        "\n",
        "for i in range(10_000_000):\n",
        "  new_training_func = TrainingFunc()\n",
        "  rand_t = np.random.uniform(-13, 13)\n",
        "\n",
        "  new_input_data = [new_training_func.step, new_training_func.pos(rand_t), \n",
        "                         new_training_func.vel(rand_t), new_training_func.acc(rand_t)]\n",
        "  \n",
        "  new_target_data = [new_training_func.pos(rand_t + new_training_func.step), \n",
        "                          new_training_func.vel(rand_t + new_training_func.step)]\n",
        "  \n",
        "  X_train.append(new_input_data)\n",
        "  Y_train.append(new_target_data)\n",
        "\n",
        "X_train = np.array(X_train)\n",
        "Y_train = np.array(Y_train)"
      ],
      "metadata": {
        "id": "IeaJUsGxoMOC"
      },
      "execution_count": 9,
      "outputs": []
    },
    {
      "cell_type": "code",
      "source": [
        "history = model.fit(X_train, Y_train)"
      ],
      "metadata": {
        "colab": {
          "base_uri": "https://localhost:8080/"
        },
        "id": "KNFfsc-_oOqW",
        "outputId": "e16e90e7-49c6-4ac9-99c5-1cb6746f86b5"
      },
      "execution_count": 10,
      "outputs": [
        {
          "output_type": "stream",
          "name": "stdout",
          "text": [
            "312501/312501 [==============================] - 632s 2ms/step - loss: 0.2496\n"
          ]
        }
      ]
    },
    {
      "cell_type": "code",
      "source": [
        "class Oscillator:\n",
        "  def __init__(self, a, h):\n",
        "    self.a = a\n",
        "    self.sqrta = np.sqrt(a)\n",
        "    self.ini = np.array([h, 0, self.sqrta, 0])\n",
        "\n",
        "  def acc(self, pos):\n",
        "    return self.a * np.sin(pos)\n",
        "\n",
        "  def vel(self, t):\n",
        "    return self.sqrta * np.cos(self.sqrta * t)\n",
        "\n",
        "  def pos(self, t):\n",
        "    return np.sin(self.sqrta * t)\n",
        "\n",
        "h = 0.01\n",
        "a = 1\n",
        "\n",
        "oscillator = Oscillator(a, h)\n",
        "exact_sol = [oscillator.ini[1]]\n",
        "model_sol = [oscillator.ini[1]]\n",
        "\n",
        "prediction = model(oscillator.ini.reshape((1, 4)), training=False)\n",
        "\n",
        "model_sol.append(prediction[0,0])\n",
        "exact_sol.append(oscillator.pos(h))\n",
        "\n",
        "for i in range(2, 400):\n",
        "  input_data = np.array([h, prediction[0,0], prediction[0,1], oscillator.acc(prediction[0,0])]).reshape((1, 4))\n",
        "  prediction = model(input_data, training=False)\n",
        "  model_sol.append(prediction[0,0])\n",
        "  exact_sol.append(oscillator.pos(i * h))"
      ],
      "metadata": {
        "id": "6qtivhfeoRoj"
      },
      "execution_count": 11,
      "outputs": []
    },
    {
      "cell_type": "code",
      "source": [
        "plt.plot(model_sol, 'b')\n",
        "plt.plot(exact_sol, 'g')\n",
        "plt.xlim(0, 400)\n",
        "plt.ylim(0,1)\n",
        "plt.show()"
      ],
      "metadata": {
        "colab": {
          "base_uri": "https://localhost:8080/",
          "height": 269
        },
        "id": "LenlVJZwoWtU",
        "outputId": "263a3852-5820-4eec-9da1-5b4b34bec8bf"
      },
      "execution_count": 12,
      "outputs": [
        {
          "output_type": "display_data",
          "data": {
            "text/plain": [
              "<Figure size 432x288 with 1 Axes>"
            ],
            "image/png": "[encoded data removed]"
          },
          "metadata": {
            "needs_background": "light"
          }
        }
      ]
    }
  ]
}